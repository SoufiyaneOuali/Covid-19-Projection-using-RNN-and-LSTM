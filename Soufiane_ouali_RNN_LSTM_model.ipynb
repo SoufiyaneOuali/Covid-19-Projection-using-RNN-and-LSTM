{
 "cells": [
  {
   "cell_type": "code",
   "execution_count": 6,
   "metadata": {},
   "outputs": [
    {
     "name": "stderr",
     "output_type": "stream",
     "text": [
      "Using TensorFlow backend.\n"
     ]
    }
   ],
   "source": [
    "#port keras\n",
    "import numpy\n",
    "import numpy as np\n",
    "from keras.datasets import imdb\n",
    "from keras.models import Sequential\n",
    "from keras.layers import Dense\n",
    "from keras.layers import LSTM\n",
    "from keras.layers.embeddings import Embedding\n",
    "from keras.preprocessing import sequence"
   ]
  },
  {
   "cell_type": "code",
   "execution_count": 8,
   "metadata": {},
   "outputs": [],
   "source": [
    "import pandas as pd\n",
    "import numpy as np\n",
    "import matplotlib.pyplot as plt"
   ]
  },
  {
   "cell_type": "code",
   "execution_count": 10,
   "metadata": {},
   "outputs": [
    {
     "data": {
      "text/html": [
       "<div>\n",
       "<style scoped>\n",
       "    .dataframe tbody tr th:only-of-type {\n",
       "        vertical-align: middle;\n",
       "    }\n",
       "\n",
       "    .dataframe tbody tr th {\n",
       "        vertical-align: top;\n",
       "    }\n",
       "\n",
       "    .dataframe thead th {\n",
       "        text-align: right;\n",
       "    }\n",
       "</style>\n",
       "<table border=\"1\" class=\"dataframe\">\n",
       "  <thead>\n",
       "    <tr style=\"text-align: right;\">\n",
       "      <th></th>\n",
       "      <th>YEAR</th>\n",
       "      <th>MO</th>\n",
       "      <th>DY</th>\n",
       "      <th>Confirmed</th>\n",
       "      <th>Deaths</th>\n",
       "      <th>Recovered</th>\n",
       "      <th>Excluded</th>\n",
       "      <th>Marrakesh-Safi</th>\n",
       "    </tr>\n",
       "    <tr>\n",
       "      <th>Date</th>\n",
       "      <th></th>\n",
       "      <th></th>\n",
       "      <th></th>\n",
       "      <th></th>\n",
       "      <th></th>\n",
       "      <th></th>\n",
       "      <th></th>\n",
       "      <th></th>\n",
       "    </tr>\n",
       "  </thead>\n",
       "  <tbody>\n",
       "    <tr>\n",
       "      <td>2020-09-01</td>\n",
       "      <td>2020</td>\n",
       "      <td>9</td>\n",
       "      <td>1</td>\n",
       "      <td>128</td>\n",
       "      <td>10</td>\n",
       "      <td>NaN</td>\n",
       "      <td>NaN</td>\n",
       "      <td>NaN</td>\n",
       "    </tr>\n",
       "    <tr>\n",
       "      <td>2020-09-02</td>\n",
       "      <td>2020</td>\n",
       "      <td>9</td>\n",
       "      <td>2</td>\n",
       "      <td>160</td>\n",
       "      <td>7</td>\n",
       "      <td>NaN</td>\n",
       "      <td>NaN</td>\n",
       "      <td>NaN</td>\n",
       "    </tr>\n",
       "    <tr>\n",
       "      <td>2020-09-03</td>\n",
       "      <td>2020</td>\n",
       "      <td>9</td>\n",
       "      <td>3</td>\n",
       "      <td>191</td>\n",
       "      <td>12</td>\n",
       "      <td>NaN</td>\n",
       "      <td>NaN</td>\n",
       "      <td>NaN</td>\n",
       "    </tr>\n",
       "    <tr>\n",
       "      <td>2020-09-04</td>\n",
       "      <td>2020</td>\n",
       "      <td>9</td>\n",
       "      <td>4</td>\n",
       "      <td>203</td>\n",
       "      <td>9</td>\n",
       "      <td>NaN</td>\n",
       "      <td>NaN</td>\n",
       "      <td>NaN</td>\n",
       "    </tr>\n",
       "    <tr>\n",
       "      <td>2020-09-05</td>\n",
       "      <td>2020</td>\n",
       "      <td>9</td>\n",
       "      <td>5</td>\n",
       "      <td>234</td>\n",
       "      <td>10</td>\n",
       "      <td>NaN</td>\n",
       "      <td>NaN</td>\n",
       "      <td>NaN</td>\n",
       "    </tr>\n",
       "    <tr>\n",
       "      <td>...</td>\n",
       "      <td>...</td>\n",
       "      <td>...</td>\n",
       "      <td>...</td>\n",
       "      <td>...</td>\n",
       "      <td>...</td>\n",
       "      <td>...</td>\n",
       "      <td>...</td>\n",
       "      <td>...</td>\n",
       "    </tr>\n",
       "    <tr>\n",
       "      <td>2020-11-03</td>\n",
       "      <td>2020</td>\n",
       "      <td>11</td>\n",
       "      <td>3</td>\n",
       "      <td>157</td>\n",
       "      <td>8</td>\n",
       "      <td>NaN</td>\n",
       "      <td>NaN</td>\n",
       "      <td>NaN</td>\n",
       "    </tr>\n",
       "    <tr>\n",
       "      <td>2020-11-04</td>\n",
       "      <td>2020</td>\n",
       "      <td>11</td>\n",
       "      <td>4</td>\n",
       "      <td>290</td>\n",
       "      <td>8</td>\n",
       "      <td>NaN</td>\n",
       "      <td>NaN</td>\n",
       "      <td>NaN</td>\n",
       "    </tr>\n",
       "    <tr>\n",
       "      <td>2020-11-05</td>\n",
       "      <td>2020</td>\n",
       "      <td>11</td>\n",
       "      <td>5</td>\n",
       "      <td>269</td>\n",
       "      <td>6</td>\n",
       "      <td>NaN</td>\n",
       "      <td>NaN</td>\n",
       "      <td>NaN</td>\n",
       "    </tr>\n",
       "    <tr>\n",
       "      <td>2020-11-06</td>\n",
       "      <td>2020</td>\n",
       "      <td>11</td>\n",
       "      <td>6</td>\n",
       "      <td>292</td>\n",
       "      <td>5</td>\n",
       "      <td>NaN</td>\n",
       "      <td>NaN</td>\n",
       "      <td>NaN</td>\n",
       "    </tr>\n",
       "    <tr>\n",
       "      <td>2020-11-07</td>\n",
       "      <td>2020</td>\n",
       "      <td>11</td>\n",
       "      <td>7</td>\n",
       "      <td>289</td>\n",
       "      <td>3</td>\n",
       "      <td>NaN</td>\n",
       "      <td>NaN</td>\n",
       "      <td>NaN</td>\n",
       "    </tr>\n",
       "  </tbody>\n",
       "</table>\n",
       "<p>68 rows × 8 columns</p>\n",
       "</div>"
      ],
      "text/plain": [
       "            YEAR  MO  DY  Confirmed  Deaths  Recovered  Excluded  \\\n",
       "Date                                                               \n",
       "2020-09-01  2020   9   1        128      10        NaN       NaN   \n",
       "2020-09-02  2020   9   2        160       7        NaN       NaN   \n",
       "2020-09-03  2020   9   3        191      12        NaN       NaN   \n",
       "2020-09-04  2020   9   4        203       9        NaN       NaN   \n",
       "2020-09-05  2020   9   5        234      10        NaN       NaN   \n",
       "...          ...  ..  ..        ...     ...        ...       ...   \n",
       "2020-11-03  2020  11   3        157       8        NaN       NaN   \n",
       "2020-11-04  2020  11   4        290       8        NaN       NaN   \n",
       "2020-11-05  2020  11   5        269       6        NaN       NaN   \n",
       "2020-11-06  2020  11   6        292       5        NaN       NaN   \n",
       "2020-11-07  2020  11   7        289       3        NaN       NaN   \n",
       "\n",
       "            Marrakesh-Safi  \n",
       "Date                        \n",
       "2020-09-01             NaN  \n",
       "2020-09-02             NaN  \n",
       "2020-09-03             NaN  \n",
       "2020-09-04             NaN  \n",
       "2020-09-05             NaN  \n",
       "...                    ...  \n",
       "2020-11-03             NaN  \n",
       "2020-11-04             NaN  \n",
       "2020-11-05             NaN  \n",
       "2020-11-06             NaN  \n",
       "2020-11-07             NaN  \n",
       "\n",
       "[68 rows x 8 columns]"
      ]
     },
     "execution_count": 10,
     "metadata": {},
     "output_type": "execute_result"
    }
   ],
   "source": [
    "#Total COVID confirmed cases\n",
    "df_confirmed = pd.read_excel('Data.xlsx', index_col=0,parse_dates=True,squeeze=True)"
   ]
  },
  {
   "cell_type": "code",
   "execution_count": 13,
   "metadata": {},
   "outputs": [
    {
     "data": {
      "text/html": [
       "<div>\n",
       "<style scoped>\n",
       "    .dataframe tbody tr th:only-of-type {\n",
       "        vertical-align: middle;\n",
       "    }\n",
       "\n",
       "    .dataframe tbody tr th {\n",
       "        vertical-align: top;\n",
       "    }\n",
       "\n",
       "    .dataframe thead th {\n",
       "        text-align: right;\n",
       "    }\n",
       "</style>\n",
       "<table border=\"1\" class=\"dataframe\">\n",
       "  <thead>\n",
       "    <tr style=\"text-align: right;\">\n",
       "      <th></th>\n",
       "      <th>Confirmed</th>\n",
       "    </tr>\n",
       "    <tr>\n",
       "      <th>Date</th>\n",
       "      <th></th>\n",
       "    </tr>\n",
       "  </thead>\n",
       "  <tbody>\n",
       "    <tr>\n",
       "      <td>2020-09-01</td>\n",
       "      <td>128</td>\n",
       "    </tr>\n",
       "    <tr>\n",
       "      <td>2020-09-02</td>\n",
       "      <td>160</td>\n",
       "    </tr>\n",
       "    <tr>\n",
       "      <td>2020-09-03</td>\n",
       "      <td>191</td>\n",
       "    </tr>\n",
       "    <tr>\n",
       "      <td>2020-09-04</td>\n",
       "      <td>203</td>\n",
       "    </tr>\n",
       "    <tr>\n",
       "      <td>2020-09-05</td>\n",
       "      <td>234</td>\n",
       "    </tr>\n",
       "    <tr>\n",
       "      <td>...</td>\n",
       "      <td>...</td>\n",
       "    </tr>\n",
       "    <tr>\n",
       "      <td>2020-11-03</td>\n",
       "      <td>157</td>\n",
       "    </tr>\n",
       "    <tr>\n",
       "      <td>2020-11-04</td>\n",
       "      <td>290</td>\n",
       "    </tr>\n",
       "    <tr>\n",
       "      <td>2020-11-05</td>\n",
       "      <td>269</td>\n",
       "    </tr>\n",
       "    <tr>\n",
       "      <td>2020-11-06</td>\n",
       "      <td>292</td>\n",
       "    </tr>\n",
       "    <tr>\n",
       "      <td>2020-11-07</td>\n",
       "      <td>289</td>\n",
       "    </tr>\n",
       "  </tbody>\n",
       "</table>\n",
       "<p>68 rows × 1 columns</p>\n",
       "</div>"
      ],
      "text/plain": [
       "            Confirmed\n",
       "Date                 \n",
       "2020-09-01        128\n",
       "2020-09-02        160\n",
       "2020-09-03        191\n",
       "2020-09-04        203\n",
       "2020-09-05        234\n",
       "...               ...\n",
       "2020-11-03        157\n",
       "2020-11-04        290\n",
       "2020-11-05        269\n",
       "2020-11-06        292\n",
       "2020-11-07        289\n",
       "\n",
       "[68 rows x 1 columns]"
      ]
     },
     "execution_count": 13,
     "metadata": {},
     "output_type": "execute_result"
    }
   ],
   "source": [
    "df_confirmed= df_confirmed[['Confirmed']]\n",
    "df_confirmed"
   ]
  },
  {
   "cell_type": "code",
   "execution_count": 42,
   "metadata": {},
   "outputs": [
    {
     "data": {
      "image/png": "[encoded data removed]",
      "text/plain": [
       "<Figure size 1296x648 with 1 Axes>"
      ]
     },
     "metadata": {
      "needs_background": "light"
     },
     "output_type": "display_data"
    }
   ],
   "source": [
    "import matplotlib.pyplot as plt\n",
    "fig,ax=plt.subplots(figsize=(18,9))\n",
    "plt.grid(True)\n",
    "ax.plot(df_confirmed.Confirmed,label='Confirmed')\n",
    "ax.set(xlabel='Date',ylabel='Nombre de cas',Title ='Situation au Marakech_Safi')\n",
    "plt.xticks(rotation='vertical')\n",
    "plt.legend()\n",
    "plt.show()"
   ]
  },
  {
   "cell_type": "code",
   "execution_count": 16,
   "metadata": {},
   "outputs": [
    {
     "data": {
      "text/plain": [
       "54"
      ]
     },
     "execution_count": 16,
     "metadata": {},
     "output_type": "execute_result"
    }
   ],
   "source": [
    "#Use data until 14 days before as training\n",
    "x = len(df_confirmed)-14\n",
    "x"
   ]
  },
  {
   "cell_type": "code",
   "execution_count": 17,
   "metadata": {},
   "outputs": [],
   "source": [
    "train=df_confirmed.iloc[:x]\n",
    "test = df_confirmed.iloc[x:]"
   ]
  },
  {
   "cell_type": "code",
   "execution_count": 18,
   "metadata": {},
   "outputs": [],
   "source": [
    "##scale or normalize data as the data is too skewed\n",
    "from sklearn.preprocessing import MinMaxScaler\n",
    "scaler = MinMaxScaler()\n",
    "scaler.fit(train) \n",
    "\n",
    "train_scaled = scaler.transform(train)\n",
    "test_scaled = scaler.transform(test)\n"
   ]
  },
  {
   "cell_type": "code",
   "execution_count": 19,
   "metadata": {},
   "outputs": [],
   "source": [
    "## Use TimeSeriestrain_generator to generate data in sequences.\n",
    "from keras.preprocessing.sequence import TimeseriesGenerator"
   ]
  },
  {
   "cell_type": "code",
   "execution_count": 20,
   "metadata": {},
   "outputs": [
    {
     "name": "stdout",
     "output_type": "stream",
     "text": [
      "Total number of samples in the original training data =  54\n",
      "Total number of samples in the generated data =  47\n"
     ]
    }
   ],
   "source": [
    "#Sequence size has an impact on prediction, especially since COVID is unpredictable!\n",
    "seq_size = 7  \n",
    "n_features = 1 \n",
    "train_generator = TimeseriesGenerator(train_scaled, train_scaled, length = seq_size, batch_size=1)\n",
    "print(\"Total number of samples in the original training data = \", len(train)) \n",
    "print(\"Total number of samples in the generated data = \", len(train_generator))"
   ]
  },
  {
   "cell_type": "code",
   "execution_count": 21,
   "metadata": {},
   "outputs": [],
   "source": [
    "#Check data shape from generator\n",
    "x,y = train_generator[10]  #Check train_generator\n",
    "#Takes 7 days as x and 8th day as y (for seq_size=7)"
   ]
  },
  {
   "cell_type": "code",
   "execution_count": 23,
   "metadata": {},
   "outputs": [
    {
     "name": "stdout",
     "output_type": "stream",
     "text": [
      "Total number of samples in the original test data =  14\n",
      "Total number of samples in the generated data =  7\n"
     ]
    }
   ],
   "source": [
    "#Also generate test data\n",
    "test_generator = TimeseriesGenerator(test_scaled, test_scaled, length=seq_size, batch_size=1)\n",
    "print(\"Total number of samples in the original test data = \", len(test)) # 14 as we're using last 14 days for test\n",
    "print(\"Total number of samples in the generated data = \", len(test_generator)) # 7\n",
    "#Check data shape from generator\n",
    "x,y = test_generator[0]"
   ]
  },
  {
   "cell_type": "code",
   "execution_count": 24,
   "metadata": {},
   "outputs": [],
   "source": [
    "from keras.models import Sequential\n",
    "from keras.layers import Dense, LSTM, Dropout, Activation"
   ]
  },
  {
   "cell_type": "code",
   "execution_count": 25,
   "metadata": {},
   "outputs": [
    {
     "name": "stdout",
     "output_type": "stream",
     "text": [
      "WARNING:tensorflow:From C:\\Users\\Ouali Soufiyane\\Anaconda3\\lib\\site-packages\\keras\\backend\\tensorflow_backend.py:66: The name tf.get_default_graph is deprecated. Please use tf.compat.v1.get_default_graph instead.\n",
      "\n",
      "WARNING:tensorflow:From C:\\Users\\Ouali Soufiyane\\Anaconda3\\lib\\site-packages\\keras\\backend\\tensorflow_backend.py:541: The name tf.placeholder is deprecated. Please use tf.compat.v1.placeholder instead.\n",
      "\n",
      "WARNING:tensorflow:From C:\\Users\\Ouali Soufiyane\\Anaconda3\\lib\\site-packages\\keras\\backend\\tensorflow_backend.py:4432: The name tf.random_uniform is deprecated. Please use tf.random.uniform instead.\n",
      "\n",
      "WARNING:tensorflow:From C:\\Users\\Ouali Soufiyane\\Anaconda3\\lib\\site-packages\\keras\\optimizers.py:793: The name tf.train.Optimizer is deprecated. Please use tf.compat.v1.train.Optimizer instead.\n",
      "\n",
      "Model: \"sequential_1\"\n",
      "_________________________________________________________________\n",
      "Layer (type)                 Output Shape              Param #   \n",
      "=================================================================\n",
      "lstm_1 (LSTM)                (None, 7, 150)            91200     \n",
      "_________________________________________________________________\n",
      "lstm_2 (LSTM)                (None, 64)                55040     \n",
      "_________________________________________________________________\n",
      "dense_1 (Dense)              (None, 64)                4160      \n",
      "_________________________________________________________________\n",
      "dense_2 (Dense)              (None, 1)                 65        \n",
      "=================================================================\n",
      "Total params: 150,465\n",
      "Trainable params: 150,465\n",
      "Non-trainable params: 0\n",
      "_________________________________________________________________\n",
      "Train...\n"
     ]
    }
   ],
   "source": [
    "#Define Model \n",
    "model = Sequential()\n",
    "model.add(LSTM(150, activation='relu', return_sequences=True, input_shape=(seq_size, n_features)))\n",
    "model.add(LSTM(64, activation='relu'))\n",
    "model.add(Dense(64))\n",
    "model.add(Dense(1))\n",
    "model.compile(optimizer='adam', loss='mean_squared_error')\n",
    "\n",
    "model.summary()\n",
    "print('Train...')"
   ]
  },
  {
   "cell_type": "code",
   "execution_count": 26,
   "metadata": {},
   "outputs": [
    {
     "name": "stdout",
     "output_type": "stream",
     "text": [
      "WARNING:tensorflow:From C:\\Users\\Ouali Soufiyane\\Anaconda3\\lib\\site-packages\\tensorflow\\python\\ops\\math_grad.py:1250: add_dispatch_support.<locals>.wrapper (from tensorflow.python.ops.array_ops) is deprecated and will be removed in a future version.\n",
      "Instructions for updating:\n",
      "Use tf.where in 2.0, which has the same broadcast rule as np.where\n",
      "WARNING:tensorflow:From C:\\Users\\Ouali Soufiyane\\Anaconda3\\lib\\site-packages\\keras\\backend\\tensorflow_backend.py:1033: The name tf.assign_add is deprecated. Please use tf.compat.v1.assign_add instead.\n",
      "\n",
      "WARNING:tensorflow:From C:\\Users\\Ouali Soufiyane\\Anaconda3\\lib\\site-packages\\keras\\backend\\tensorflow_backend.py:1020: The name tf.assign is deprecated. Please use tf.compat.v1.assign instead.\n",
      "\n",
      "Epoch 1/50\n",
      "10/10 [==============================] - 15s 2s/step - loss: 0.1931 - val_loss: 0.2800\n",
      "Epoch 2/50\n",
      "10/10 [==============================] - 1s 98ms/step - loss: 0.0313 - val_loss: 0.1366\n",
      "Epoch 3/50\n",
      "10/10 [==============================] - 1s 91ms/step - loss: 0.0527 - val_loss: 0.1700\n",
      "Epoch 4/50\n",
      "10/10 [==============================] - 1s 106ms/step - loss: 0.0777 - val_loss: 0.2200\n",
      "Epoch 5/50\n",
      "10/10 [==============================] - 1s 98ms/step - loss: 0.1048 - val_loss: 0.1869\n",
      "Epoch 6/50\n",
      "10/10 [==============================] - 1s 107ms/step - loss: 0.1375 - val_loss: 0.1231\n",
      "Epoch 7/50\n",
      "10/10 [==============================] - 1s 102ms/step - loss: 0.0593 - val_loss: 0.1831\n",
      "Epoch 8/50\n",
      "10/10 [==============================] - 1s 102ms/step - loss: 0.0195 - val_loss: 0.1911\n",
      "Epoch 9/50\n",
      "10/10 [==============================] - 1s 97ms/step - loss: 0.0403 - val_loss: 0.2065A: 0s - loss: 0.044\n",
      "Epoch 10/50\n",
      "10/10 [==============================] - 1s 112ms/step - loss: 0.0310 - val_loss: 0.2029\n",
      "Epoch 11/50\n",
      "10/10 [==============================] - 1s 107ms/step - loss: 0.0484 - val_loss: 0.2109\n",
      "Epoch 12/50\n",
      "10/10 [==============================] - 1s 112ms/step - loss: 0.0533 - val_loss: 0.1722\n",
      "Epoch 13/50\n",
      "10/10 [==============================] - 1s 122ms/step - loss: 0.0585 - val_loss: 0.1749\n",
      "Epoch 14/50\n",
      "10/10 [==============================] - 1s 124ms/step - loss: 0.0709 - val_loss: 0.1263\n",
      "Epoch 15/50\n",
      "10/10 [==============================] - 1s 121ms/step - loss: 0.0503 - val_loss: 0.1458\n",
      "Epoch 16/50\n",
      "10/10 [==============================] - 1s 96ms/step - loss: 0.0348 - val_loss: 0.1904\n",
      "Epoch 17/50\n",
      "10/10 [==============================] - 1s 106ms/step - loss: 0.0457 - val_loss: 0.2319\n",
      "Epoch 18/50\n",
      "10/10 [==============================] - 1s 107ms/step - loss: 0.0831 - val_loss: 0.2018\n",
      "Epoch 19/50\n",
      "10/10 [==============================] - 1s 113ms/step - loss: 0.0730 - val_loss: 0.1444\n",
      "Epoch 20/50\n",
      "10/10 [==============================] - 1s 95ms/step - loss: 0.0538 - val_loss: 0.1270\n",
      "Epoch 21/50\n",
      "10/10 [==============================] - 1s 95ms/step - loss: 0.0499 - val_loss: 0.1397\n",
      "Epoch 22/50\n",
      "10/10 [==============================] - 1s 95ms/step - loss: 0.0348 - val_loss: 0.1995\n",
      "Epoch 23/50\n",
      "10/10 [==============================] - 1s 88ms/step - loss: 0.0896 - val_loss: 0.2254\n",
      "Epoch 24/50\n",
      "10/10 [==============================] - 1s 88ms/step - loss: 0.0718 - val_loss: 0.1912\n",
      "Epoch 25/50\n",
      "10/10 [==============================] - 1s 84ms/step - loss: 0.0325 - val_loss: 0.1718\n",
      "Epoch 26/50\n",
      "10/10 [==============================] - 1s 84ms/step - loss: 0.0766 - val_loss: 0.1492\n",
      "Epoch 27/50\n",
      "10/10 [==============================] - 1s 88ms/step - loss: 0.0461 - val_loss: 0.1429\n",
      "Epoch 28/50\n",
      "10/10 [==============================] - 1s 83ms/step - loss: 0.0490 - val_loss: 0.1619\n",
      "Epoch 29/50\n",
      "10/10 [==============================] - 1s 85ms/step - loss: 0.0557 - val_loss: 0.1833\n",
      "Epoch 30/50\n",
      "10/10 [==============================] - 1s 87ms/step - loss: 0.0399 - val_loss: 0.1770\n",
      "Epoch 31/50\n",
      "10/10 [==============================] - 1s 88ms/step - loss: 0.0593 - val_loss: 0.1520\n",
      "Epoch 32/50\n",
      "10/10 [==============================] - 1s 83ms/step - loss: 0.0613 - val_loss: 0.1501\n",
      "Epoch 33/50\n",
      "10/10 [==============================] - 1s 83ms/step - loss: 0.0631 - val_loss: 0.1766\n",
      "Epoch 34/50\n",
      "10/10 [==============================] - 1s 85ms/step - loss: 0.0515 - val_loss: 0.1912\n",
      "Epoch 35/50\n",
      "10/10 [==============================] - 1s 83ms/step - loss: 0.0491 - val_loss: 0.1921\n",
      "Epoch 36/50\n",
      "10/10 [==============================] - 1s 84ms/step - loss: 0.1118 - val_loss: 0.1699\n",
      "Epoch 37/50\n",
      "10/10 [==============================] - 1s 90ms/step - loss: 0.0173 - val_loss: 0.1614\n",
      "Epoch 38/50\n",
      "10/10 [==============================] - 1s 100ms/step - loss: 0.0390 - val_loss: 0.1729\n",
      "Epoch 39/50\n",
      "10/10 [==============================] - 1s 122ms/step - loss: 0.0518 - val_loss: 0.1639\n",
      "Epoch 40/50\n",
      "10/10 [==============================] - 1s 132ms/step - loss: 0.0501 - val_loss: 0.1491\n",
      "Epoch 41/50\n",
      "10/10 [==============================] - 1s 121ms/step - loss: 0.0586 - val_loss: 0.1796\n",
      "Epoch 42/50\n",
      "10/10 [==============================] - 1s 131ms/step - loss: 0.0525 - val_loss: 0.1638\n",
      "Epoch 43/50\n",
      "10/10 [==============================] - 1s 130ms/step - loss: 0.0349 - val_loss: 0.1700\n",
      "Epoch 44/50\n",
      "10/10 [==============================] - 1s 123ms/step - loss: 0.0619 - val_loss: 0.1745\n",
      "Epoch 45/50\n",
      "10/10 [==============================] - 1s 121ms/step - loss: 0.0790 - val_loss: 0.1621\n",
      "Epoch 46/50\n",
      "10/10 [==============================] - 1s 116ms/step - loss: 0.0157 - val_loss: 0.1521\n",
      "Epoch 47/50\n",
      "10/10 [==============================] - 1s 126ms/step - loss: 0.0869 - val_loss: 0.1571\n",
      "Epoch 48/50\n",
      "10/10 [==============================] - 1s 136ms/step - loss: 0.0248 - val_loss: 0.1520\n",
      "Epoch 49/50\n",
      "10/10 [==============================] - 1s 90ms/step - loss: 0.0323 - val_loss: 0.1356\n",
      "Epoch 50/50\n",
      "10/10 [==============================] - 1s 81ms/step - loss: 0.0680 - val_loss: 0.1522\n"
     ]
    }
   ],
   "source": [
    "history = model.fit_generator(train_generator, \n",
    "                              validation_data=test_generator, \n",
    "                              epochs=50, steps_per_epoch=10)"
   ]
  },
  {
   "cell_type": "code",
   "execution_count": 44,
   "metadata": {},
   "outputs": [
    {
     "data": {
      "text/plain": [
       "<matplotlib.axes._subplots.AxesSubplot at 0x1624325a508>"
      ]
     },
     "execution_count": 44,
     "metadata": {},
     "output_type": "execute_result"
    },
    {
     "data": {
      "image/png": "[encoded data removed]",
      "text/plain": [
       "<Figure size 432x288 with 1 Axes>"
      ]
     },
     "metadata": {
      "needs_background": "light"
     },
     "output_type": "display_data"
    }
   ],
   "source": [
    "pd.DataFrame(history.history).plot(title=\"Performance\")"
   ]
  },
  {
   "cell_type": "code",
   "execution_count": 27,
   "metadata": {},
   "outputs": [],
   "source": [
    "#forecast\n",
    "prediction = [] #Empty list to populate later with predictions\n",
    "\n",
    "current_batch = train_scaled[-seq_size:] #Final data points in train \n",
    "current_batch = current_batch.reshape(1, seq_size, n_features) #Reshape"
   ]
  },
  {
   "cell_type": "code",
   "execution_count": 28,
   "metadata": {},
   "outputs": [],
   "source": [
    "## Predict future, beyond test dates\n",
    "future = 7 #Days\n",
    "for i in range(len(test) + future):\n",
    "    current_pred = model.predict(current_batch)[0]\n",
    "    prediction.append(current_pred)\n",
    "    current_batch = np.append(current_batch[:,1:,:],[[current_pred]],axis=1)\n"
   ]
  },
  {
   "cell_type": "code",
   "execution_count": 29,
   "metadata": {},
   "outputs": [],
   "source": [
    "### Inverse transform to before scaling so we get actual numbers\n",
    "rescaled_prediction = scaler.inverse_transform(prediction)"
   ]
  },
  {
   "cell_type": "code",
   "execution_count": 30,
   "metadata": {},
   "outputs": [],
   "source": [
    "time_series_array = test.index  #Get dates for test data"
   ]
  },
  {
   "cell_type": "code",
   "execution_count": 31,
   "metadata": {},
   "outputs": [],
   "source": [
    "for k in range(0, future):\n",
    "    time_series_array = time_series_array.append(time_series_array[-1:] + pd.DateOffset(1))"
   ]
  },
  {
   "cell_type": "code",
   "execution_count": 37,
   "metadata": {},
   "outputs": [],
   "source": [
    "#Create a dataframe to capture the forecast data\n",
    "df_forecast = pd.DataFrame(columns=[\"Confirmed\",\"predicted\"], index=time_series_array)"
   ]
  },
  {
   "cell_type": "code",
   "execution_count": 38,
   "metadata": {},
   "outputs": [],
   "source": [
    "df_forecast.loc[:,\"predicted\"] = rescaled_prediction[:,0]\n",
    "df_forecast.loc[:,\"Confirmed\"] = test[\"Confirmed\"]"
   ]
  },
  {
   "cell_type": "code",
   "execution_count": 45,
   "metadata": {},
   "outputs": [
    {
     "data": {
      "text/plain": [
       "<matplotlib.axes._subplots.AxesSubplot at 0x1624354cc48>"
      ]
     },
     "execution_count": 45,
     "metadata": {},
     "output_type": "execute_result"
    },
    {
     "data": {
      "image/png": "[encoded data removed]",
      "text/plain": [
       "<Figure size 432x288 with 1 Axes>"
      ]
     },
     "metadata": {
      "needs_background": "light"
     },
     "output_type": "display_data"
    }
   ],
   "source": [
    "df_forecast.plot(title=\"Predictions for next 14 days\")"
   ]
  },
  {
   "cell_type": "code",
   "execution_count": 46,
   "metadata": {},
   "outputs": [
    {
     "data": {
      "text/html": [
       "<div>\n",
       "<style scoped>\n",
       "    .dataframe tbody tr th:only-of-type {\n",
       "        vertical-align: middle;\n",
       "    }\n",
       "\n",
       "    .dataframe tbody tr th {\n",
       "        vertical-align: top;\n",
       "    }\n",
       "\n",
       "    .dataframe thead th {\n",
       "        text-align: right;\n",
       "    }\n",
       "</style>\n",
       "<table border=\"1\" class=\"dataframe\">\n",
       "  <thead>\n",
       "    <tr style=\"text-align: right;\">\n",
       "      <th></th>\n",
       "      <th>Confirmed</th>\n",
       "      <th>predicted</th>\n",
       "    </tr>\n",
       "    <tr>\n",
       "      <th>Date</th>\n",
       "      <th></th>\n",
       "      <th></th>\n",
       "    </tr>\n",
       "  </thead>\n",
       "  <tbody>\n",
       "    <tr>\n",
       "      <td>2020-10-25</td>\n",
       "      <td>148.0</td>\n",
       "      <td>179.143138</td>\n",
       "    </tr>\n",
       "    <tr>\n",
       "      <td>2020-10-26</td>\n",
       "      <td>194.0</td>\n",
       "      <td>179.947461</td>\n",
       "    </tr>\n",
       "    <tr>\n",
       "      <td>2020-10-27</td>\n",
       "      <td>154.0</td>\n",
       "      <td>181.158822</td>\n",
       "    </tr>\n",
       "    <tr>\n",
       "      <td>2020-10-28</td>\n",
       "      <td>255.0</td>\n",
       "      <td>182.053728</td>\n",
       "    </tr>\n",
       "    <tr>\n",
       "      <td>2020-10-29</td>\n",
       "      <td>222.0</td>\n",
       "      <td>184.182593</td>\n",
       "    </tr>\n",
       "    <tr>\n",
       "      <td>2020-10-30</td>\n",
       "      <td>180.0</td>\n",
       "      <td>178.005824</td>\n",
       "    </tr>\n",
       "    <tr>\n",
       "      <td>2020-10-31</td>\n",
       "      <td>138.0</td>\n",
       "      <td>179.870045</td>\n",
       "    </tr>\n",
       "    <tr>\n",
       "      <td>2020-11-01</td>\n",
       "      <td>153.0</td>\n",
       "      <td>178.988978</td>\n",
       "    </tr>\n",
       "    <tr>\n",
       "      <td>2020-11-02</td>\n",
       "      <td>125.0</td>\n",
       "      <td>179.067148</td>\n",
       "    </tr>\n",
       "    <tr>\n",
       "      <td>2020-11-03</td>\n",
       "      <td>157.0</td>\n",
       "      <td>179.189255</td>\n",
       "    </tr>\n",
       "    <tr>\n",
       "      <td>2020-11-04</td>\n",
       "      <td>290.0</td>\n",
       "      <td>179.351475</td>\n",
       "    </tr>\n",
       "    <tr>\n",
       "      <td>2020-11-05</td>\n",
       "      <td>269.0</td>\n",
       "      <td>179.321627</td>\n",
       "    </tr>\n",
       "    <tr>\n",
       "      <td>2020-11-06</td>\n",
       "      <td>292.0</td>\n",
       "      <td>178.972516</td>\n",
       "    </tr>\n",
       "    <tr>\n",
       "      <td>2020-11-07</td>\n",
       "      <td>289.0</td>\n",
       "      <td>179.059319</td>\n",
       "    </tr>\n",
       "    <tr>\n",
       "      <td>2020-11-08</td>\n",
       "      <td>NaN</td>\n",
       "      <td>179.008462</td>\n",
       "    </tr>\n",
       "    <tr>\n",
       "      <td>2020-11-09</td>\n",
       "      <td>NaN</td>\n",
       "      <td>179.016335</td>\n",
       "    </tr>\n",
       "    <tr>\n",
       "      <td>2020-11-10</td>\n",
       "      <td>NaN</td>\n",
       "      <td>179.030206</td>\n",
       "    </tr>\n",
       "    <tr>\n",
       "      <td>2020-11-11</td>\n",
       "      <td>NaN</td>\n",
       "      <td>179.041268</td>\n",
       "    </tr>\n",
       "    <tr>\n",
       "      <td>2020-11-12</td>\n",
       "      <td>NaN</td>\n",
       "      <td>179.030187</td>\n",
       "    </tr>\n",
       "    <tr>\n",
       "      <td>2020-11-13</td>\n",
       "      <td>NaN</td>\n",
       "      <td>179.011838</td>\n",
       "    </tr>\n",
       "    <tr>\n",
       "      <td>2020-11-14</td>\n",
       "      <td>NaN</td>\n",
       "      <td>179.015631</td>\n",
       "    </tr>\n",
       "  </tbody>\n",
       "</table>\n",
       "</div>"
      ],
      "text/plain": [
       "            Confirmed   predicted\n",
       "Date                             \n",
       "2020-10-25      148.0  179.143138\n",
       "2020-10-26      194.0  179.947461\n",
       "2020-10-27      154.0  181.158822\n",
       "2020-10-28      255.0  182.053728\n",
       "2020-10-29      222.0  184.182593\n",
       "2020-10-30      180.0  178.005824\n",
       "2020-10-31      138.0  179.870045\n",
       "2020-11-01      153.0  178.988978\n",
       "2020-11-02      125.0  179.067148\n",
       "2020-11-03      157.0  179.189255\n",
       "2020-11-04      290.0  179.351475\n",
       "2020-11-05      269.0  179.321627\n",
       "2020-11-06      292.0  178.972516\n",
       "2020-11-07      289.0  179.059319\n",
       "2020-11-08        NaN  179.008462\n",
       "2020-11-09        NaN  179.016335\n",
       "2020-11-10        NaN  179.030206\n",
       "2020-11-11        NaN  179.041268\n",
       "2020-11-12        NaN  179.030187\n",
       "2020-11-13        NaN  179.011838\n",
       "2020-11-14        NaN  179.015631"
      ]
     },
     "execution_count": 46,
     "metadata": {},
     "output_type": "execute_result"
    }
   ],
   "source": [
    "df_forecast"
   ]
  },
  {
   "cell_type": "code",
   "execution_count": 47,
   "metadata": {},
   "outputs": [],
   "source": [
    "MAPE =np.mean(np.abs(np.array(df_forecast[\"Confirmed\"][:13])-np.array(df_forecast[\"predicted\"][:13]) )/13)"
   ]
  },
  {
   "cell_type": "code",
   "execution_count": 50,
   "metadata": {},
   "outputs": [
    {
     "data": {
      "text/plain": [
       "3.8022613123323787"
      ]
     },
     "execution_count": 50,
     "metadata": {},
     "output_type": "execute_result"
    }
   ],
   "source": [
    "MAPE"
   ]
  },
  {
   "cell_type": "code",
   "execution_count": 51,
   "metadata": {},
   "outputs": [],
   "source": [
    "accuracy  = 100-MAPE\n"
   ]
  },
  {
   "cell_type": "code",
   "execution_count": 52,
   "metadata": {},
   "outputs": [
    {
     "data": {
      "text/plain": [
       "96.19773868766762"
      ]
     },
     "execution_count": 52,
     "metadata": {},
     "output_type": "execute_result"
    }
   ],
   "source": [
    "accuracy"
   ]
  },
  {
   "cell_type": "code",
   "execution_count": 55,
   "metadata": {},
   "outputs": [],
   "source": [
    "df_forecast=df_forecast[:14]"
   ]
  },
  {
   "cell_type": "code",
   "execution_count": 56,
   "metadata": {},
   "outputs": [
    {
     "data": {
      "text/html": [
       "<div>\n",
       "<style scoped>\n",
       "    .dataframe tbody tr th:only-of-type {\n",
       "        vertical-align: middle;\n",
       "    }\n",
       "\n",
       "    .dataframe tbody tr th {\n",
       "        vertical-align: top;\n",
       "    }\n",
       "\n",
       "    .dataframe thead th {\n",
       "        text-align: right;\n",
       "    }\n",
       "</style>\n",
       "<table border=\"1\" class=\"dataframe\">\n",
       "  <thead>\n",
       "    <tr style=\"text-align: right;\">\n",
       "      <th></th>\n",
       "      <th>Confirmed</th>\n",
       "      <th>predicted</th>\n",
       "    </tr>\n",
       "    <tr>\n",
       "      <th>Date</th>\n",
       "      <th></th>\n",
       "      <th></th>\n",
       "    </tr>\n",
       "  </thead>\n",
       "  <tbody>\n",
       "    <tr>\n",
       "      <td>2020-10-25</td>\n",
       "      <td>148.0</td>\n",
       "      <td>179.143138</td>\n",
       "    </tr>\n",
       "    <tr>\n",
       "      <td>2020-10-26</td>\n",
       "      <td>194.0</td>\n",
       "      <td>179.947461</td>\n",
       "    </tr>\n",
       "    <tr>\n",
       "      <td>2020-10-27</td>\n",
       "      <td>154.0</td>\n",
       "      <td>181.158822</td>\n",
       "    </tr>\n",
       "    <tr>\n",
       "      <td>2020-10-28</td>\n",
       "      <td>255.0</td>\n",
       "      <td>182.053728</td>\n",
       "    </tr>\n",
       "    <tr>\n",
       "      <td>2020-10-29</td>\n",
       "      <td>222.0</td>\n",
       "      <td>184.182593</td>\n",
       "    </tr>\n",
       "    <tr>\n",
       "      <td>2020-10-30</td>\n",
       "      <td>180.0</td>\n",
       "      <td>178.005824</td>\n",
       "    </tr>\n",
       "    <tr>\n",
       "      <td>2020-10-31</td>\n",
       "      <td>138.0</td>\n",
       "      <td>179.870045</td>\n",
       "    </tr>\n",
       "    <tr>\n",
       "      <td>2020-11-01</td>\n",
       "      <td>153.0</td>\n",
       "      <td>178.988978</td>\n",
       "    </tr>\n",
       "    <tr>\n",
       "      <td>2020-11-02</td>\n",
       "      <td>125.0</td>\n",
       "      <td>179.067148</td>\n",
       "    </tr>\n",
       "    <tr>\n",
       "      <td>2020-11-03</td>\n",
       "      <td>157.0</td>\n",
       "      <td>179.189255</td>\n",
       "    </tr>\n",
       "    <tr>\n",
       "      <td>2020-11-04</td>\n",
       "      <td>290.0</td>\n",
       "      <td>179.351475</td>\n",
       "    </tr>\n",
       "    <tr>\n",
       "      <td>2020-11-05</td>\n",
       "      <td>269.0</td>\n",
       "      <td>179.321627</td>\n",
       "    </tr>\n",
       "    <tr>\n",
       "      <td>2020-11-06</td>\n",
       "      <td>292.0</td>\n",
       "      <td>178.972516</td>\n",
       "    </tr>\n",
       "  </tbody>\n",
       "</table>\n",
       "</div>"
      ],
      "text/plain": [
       "            Confirmed   predicted\n",
       "Date                             \n",
       "2020-10-25      148.0  179.143138\n",
       "2020-10-26      194.0  179.947461\n",
       "2020-10-27      154.0  181.158822\n",
       "2020-10-28      255.0  182.053728\n",
       "2020-10-29      222.0  184.182593\n",
       "2020-10-30      180.0  178.005824\n",
       "2020-10-31      138.0  179.870045\n",
       "2020-11-01      153.0  178.988978\n",
       "2020-11-02      125.0  179.067148\n",
       "2020-11-03      157.0  179.189255\n",
       "2020-11-04      290.0  179.351475\n",
       "2020-11-05      269.0  179.321627\n",
       "2020-11-06      292.0  178.972516"
      ]
     },
     "execution_count": 56,
     "metadata": {},
     "output_type": "execute_result"
    }
   ],
   "source": [
    "df_forecast"
   ]
  },
  {
   "cell_type": "code",
   "execution_count": 58,
   "metadata": {},
   "outputs": [],
   "source": [
    "df_forecast.to_csv('RNN_Predicted.csv', sep=';', index=False)"
   ]
  },
  {
   "cell_type": "code",
   "execution_count": null,
   "metadata": {},
   "outputs": [],
   "source": []
  }
 ],
 "metadata": {
  "kernelspec": {
   "display_name": "Python 3",
   "language": "python",
   "name": "python3"
  },
  "language_info": {
   "codemirror_mode": {
    "name": "ipython",
    "version": 3
   },
   "file_extension": ".py",
   "mimetype": "text/x-python",
   "name": "python",
   "nbconvert_exporter": "python",
   "pygments_lexer": "ipython3",
   "version": "3.7.4"
  }
 },
 "nbformat": 4,
 "nbformat_minor": 2
}
